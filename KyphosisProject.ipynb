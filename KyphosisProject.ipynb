{
 "cells": [
  {
   "cell_type": "code",
   "execution_count": null,
   "metadata": {
    "colab": {
     "base_uri": "https://localhost:8080/",
     "height": 227
    },
    "id": "8fFJ_G_3bbO6",
    "outputId": "2bd7db64-e258-482b-987f-6829a6ee3cb2"
   },
   "outputs": [
    {
     "name": "stdout",
     "output_type": "stream",
     "text": [
      "Requirement already satisfied: pyspark in /usr/local/lib/python3.7/dist-packages (3.1.2)\n",
      "Requirement already satisfied: py4j==0.10.9 in /usr/local/lib/python3.7/dist-packages (from pyspark) (0.10.9)\n"
     ]
    },
    {
     "data": {
      "text/html": [
       "\n",
       "        <div>\n",
       "            <p><b>SparkContext</b></p>\n",
       "\n",
       "            <p><a href=\"http://e0052e378454:4040\">Spark UI</a></p>\n",
       "\n",
       "            <dl>\n",
       "              <dt>Version</dt>\n",
       "                <dd><code>v3.1.2</code></dd>\n",
       "              <dt>Master</dt>\n",
       "                <dd><code>local[*]</code></dd>\n",
       "              <dt>AppName</dt>\n",
       "                <dd><code>spark</code></dd>\n",
       "            </dl>\n",
       "        </div>\n",
       "        "
      ],
      "text/plain": [
       "<SparkContext master=local[*] appName=spark>"
      ]
     },
     "execution_count": 1,
     "metadata": {},
     "output_type": "execute_result"
    }
   ],
   "source": [
    "#instalando o spark e obtendo o contexto\n",
    "!pip install pyspark\n",
    "import pyspark\n",
    "from pyspark import SparkContext\n",
    "spark = SparkContext(master=\"local[*]\", appName='spark')\n",
    "spark"
   ]
  },
  {
   "cell_type": "code",
   "execution_count": null,
   "metadata": {
    "colab": {
     "base_uri": "https://localhost:8080/"
    },
    "id": "jbb0pPOAiNJ-",
    "outputId": "6b45d68d-ecd0-4084-9c85-94b6995b0e9d"
   },
   "outputs": [
    {
     "name": "stdout",
     "output_type": "stream",
     "text": [
      "Drive already mounted at /content/drive; to attempt to forcibly remount, call drive.mount(\"/content/drive\", force_remount=True).\n"
     ]
    },
    {
     "data": {
      "text/plain": [
       "['Kyphosis', 'Age', 'Number', 'Start']"
      ]
     },
     "execution_count": 1,
     "metadata": {},
     "output_type": "execute_result"
    }
   ],
   "source": [
    "#importando o dataset para o google drive\n",
    "from google.colab import drive\n",
    "drive.mount('/content/drive')\n",
    "\n",
    "from pyspark.sql import SparkSession\n",
    "\n",
    "spark = SparkSession.builder.appName('data').getOrCreate()\n",
    "\n",
    "data = spark.read.csv('drive/MyDrive/kyphosis.csv',inferSchema=True,header=True)\n",
    "data.columns"
   ]
  },
  {
   "cell_type": "code",
   "execution_count": null,
   "metadata": {
    "colab": {
     "base_uri": "https://localhost:8080/"
    },
    "id": "ivoH3KY9bNLe",
    "outputId": "000b6122-c8b3-48f7-c448-02cfe74bf61e"
   },
   "outputs": [
    {
     "name": "stdout",
     "output_type": "stream",
     "text": [
      "root\n",
      " |-- Kyphosis: string (nullable = true)\n",
      " |-- Age: integer (nullable = true)\n",
      " |-- Number: integer (nullable = true)\n",
      " |-- Start: integer (nullable = true)\n",
      "\n"
     ]
    }
   ],
   "source": [
    "#análise dos tipos de dados\n",
    "data.printSchema()"
   ]
  },
  {
   "cell_type": "code",
   "execution_count": null,
   "metadata": {
    "colab": {
     "base_uri": "https://localhost:8080/"
    },
    "id": "wgbt1EHX_279",
    "outputId": "2005b5c3-ccf3-4c98-b51c-f35be632e21a"
   },
   "outputs": [
    {
     "name": "stdout",
     "output_type": "stream",
     "text": [
      "+--------+---+------+-----+\n",
      "|Kyphosis|Age|Number|Start|\n",
      "+--------+---+------+-----+\n",
      "|  absent| 71|     3|    5|\n",
      "|  absent|158|     3|   14|\n",
      "| present|128|     4|    5|\n",
      "|  absent|  2|     5|    1|\n",
      "|  absent|  1|     4|   15|\n",
      "|  absent|  1|     2|   16|\n",
      "|  absent| 61|     2|   17|\n",
      "|  absent| 37|     3|   16|\n",
      "|  absent|113|     2|   16|\n",
      "| present| 59|     6|   12|\n",
      "| present| 82|     5|   14|\n",
      "|  absent|148|     3|   16|\n",
      "|  absent| 18|     5|    2|\n",
      "|  absent|  1|     4|   12|\n",
      "|  absent|168|     3|   18|\n",
      "|  absent|  1|     3|   16|\n",
      "|  absent| 78|     6|   15|\n",
      "|  absent|175|     5|   13|\n",
      "|  absent| 80|     5|   16|\n",
      "|  absent| 27|     4|    9|\n",
      "+--------+---+------+-----+\n",
      "only showing top 20 rows\n",
      "\n"
     ]
    }
   ],
   "source": [
    "#idade acima de 90 anos...\n",
    "data.show()"
   ]
  },
  {
   "cell_type": "markdown",
   "metadata": {
    "id": "fucMAe99bNLe"
   },
   "source": [
    "### Tratamento dos dados"
   ]
  },
  {
   "cell_type": "code",
   "execution_count": null,
   "metadata": {
    "id": "gFjLLRLYbNLf"
   },
   "outputs": [],
   "source": [
    "#tirando as linhas com idade absurda\n",
    "df = data.filter(data[\"Age\"] < 90)"
   ]
  },
  {
   "cell_type": "code",
   "execution_count": null,
   "metadata": {
    "colab": {
     "base_uri": "https://localhost:8080/"
    },
    "id": "vYx3snPg569_",
    "outputId": "b7e18f59-a058-497f-c0cd-ada66146431c"
   },
   "outputs": [
    {
     "name": "stdout",
     "output_type": "stream",
     "text": [
      "+--------+---+------+-----+\n",
      "|Kyphosis|Age|Number|Start|\n",
      "+--------+---+------+-----+\n",
      "|  absent| 71|     3|    5|\n",
      "|  absent|  2|     5|    1|\n",
      "|  absent|  1|     4|   15|\n",
      "|  absent|  1|     2|   16|\n",
      "|  absent| 61|     2|   17|\n",
      "|  absent| 37|     3|   16|\n",
      "| present| 59|     6|   12|\n",
      "| present| 82|     5|   14|\n",
      "|  absent| 18|     5|    2|\n",
      "|  absent|  1|     4|   12|\n",
      "|  absent|  1|     3|   16|\n",
      "|  absent| 78|     6|   15|\n",
      "|  absent| 80|     5|   16|\n",
      "|  absent| 27|     4|    9|\n",
      "|  absent| 22|     2|   16|\n",
      "| present| 15|     7|    2|\n",
      "|  absent|  9|     5|   13|\n",
      "|  absent|  8|     3|    6|\n",
      "|  absent|  4|     3|   16|\n",
      "|  absent| 31|     3|   16|\n",
      "+--------+---+------+-----+\n",
      "only showing top 20 rows\n",
      "\n"
     ]
    }
   ],
   "source": [
    "df.show()"
   ]
  },
  {
   "cell_type": "code",
   "execution_count": null,
   "metadata": {
    "id": "llTtoOj5q9hm"
   },
   "outputs": [],
   "source": [
    "#preparando os dados para treinamento\n",
    "from pyspark.ml.feature import VectorAssembler\n",
    "assembler = VectorAssembler(\n",
    "  inputCols=['Age', 'Number', 'Start'],\n",
    "              outputCol=\"features\")\n",
    "\n",
    "output = assembler.transform(df)\n",
    "\n",
    "from pyspark.ml.feature import StringIndexer\n",
    "indexer = StringIndexer(inputCol=\"Kyphosis\", outputCol=\"KyphosisIndex\")\n",
    "output_fixed = indexer.fit(output).transform(output)\n",
    "\n",
    "final_data = output_fixed.select(\"features\",'KyphosisIndex')\n",
    "train_data,test_data = final_data.randomSplit([0.7,0.3])"
   ]
  },
  {
   "cell_type": "markdown",
   "metadata": {
    "id": "v0Bsult5bNLf"
   },
   "source": [
    "### Treinamento"
   ]
  },
  {
   "cell_type": "code",
   "execution_count": null,
   "metadata": {
    "id": "wqrueXxQbNLf"
   },
   "outputs": [],
   "source": [
    "#treino feito em árvore de decisão e floresta aleatória\n",
    "from pyspark.ml.classification import RandomForestClassifier\n",
    "\n",
    "rfc = RandomForestClassifier(labelCol='KyphosisIndex',featuresCol='features')\n",
    "\n",
    "rfc_model = rfc.fit(train_data)"
   ]
  },
  {
   "cell_type": "markdown",
   "metadata": {
    "id": "CZ0ifuknbNLf"
   },
   "source": [
    "### Previsão"
   ]
  },
  {
   "cell_type": "code",
   "execution_count": null,
   "metadata": {
    "id": "yHpu2drlbNLg"
   },
   "outputs": [],
   "source": [
    "rfc_predictions = rfc_model.transform(test_data)"
   ]
  },
  {
   "cell_type": "markdown",
   "metadata": {
    "id": "id17k4SLbNLg"
   },
   "source": [
    "### Resultados"
   ]
  },
  {
   "cell_type": "code",
   "execution_count": null,
   "metadata": {
    "id": "Qjai4gvQ4-Jh"
   },
   "outputs": [],
   "source": [
    "from pyspark.ml.evaluation import MulticlassClassificationEvaluator\n",
    "acc_evaluator = MulticlassClassificationEvaluator(labelCol=\"KyphosisIndex\", predictionCol=\"prediction\", metricName=\"accuracy\")\n",
    "rfc_acc = acc_evaluator.evaluate(rfc_predictions)\n",
    "\n",
    "f1score_evaluator = MulticlassClassificationEvaluator(labelCol=\"KyphosisIndex\", predictionCol=\"prediction\", metricName=\"f1\")\n",
    "rfc_f1 = f1score_evaluator.evaluate(rfc_predictions)\n",
    "\n",
    "precision_evaluator = MulticlassClassificationEvaluator(labelCol=\"KyphosisIndex\", predictionCol=\"prediction\", metricName=\"weightedPrecision\")\n",
    "rfc_precision = precision_evaluator.evaluate(rfc_predictions)\n",
    "\n",
    "recall_evaluator = MulticlassClassificationEvaluator(labelCol=\"KyphosisIndex\", predictionCol=\"prediction\", metricName=\"weightedRecall\")\n",
    "rfc_recall = recall_evaluator.evaluate(rfc_predictions)"
   ]
  },
  {
   "cell_type": "code",
   "execution_count": null,
   "metadata": {
    "colab": {
     "base_uri": "https://localhost:8080/"
    },
    "id": "etpx85qh5Gbn",
    "outputId": "75ed5910-7795-40ef-c0df-c88fdf92d8f1"
   },
   "outputs": [
    {
     "name": "stdout",
     "output_type": "stream",
     "text": [
      "Um conjunto de floresta aleatório teve uma acurácia de: 92.308%\n",
      "--------------------------------------------------------------------------------\n",
      "Um conjunto de floresta aleatório teve um f1_score de: 0.886\n",
      "--------------------------------------------------------------------------------\n",
      "Um conjunto de floresta aleatório teve um precisão de: 0.852\n",
      "--------------------------------------------------------------------------------\n",
      "Um conjunto de floresta aleatório teve um Recall de: 0.923\n",
      "--------------------------------------------------------------------------------\n"
     ]
    }
   ],
   "source": [
    "print(f'Um conjunto de floresta aleatório teve uma acurácia de: {round(rfc_acc*100,2)}%')\n",
    "print('-'*80)\n",
    "\n",
    "print(f'Um conjunto de floresta aleatório teve um f1_score de: {round(rfc_f1,2)}')\n",
    "print('-'*80)\n",
    "\n",
    "print(f'Um conjunto de floresta aleatório teve um precisão de: {round(rfc_precision,2)}')\n",
    "print('-'*80)\n",
    "\n",
    "print(f'Um conjunto de floresta aleatório teve um Recall de: {round(rfc_recall,2)}')\n",
    "print('-'*80)"
   ]
  }
 ],
 "metadata": {
  "colab": {
   "collapsed_sections": [],
   "name": "10_ProjetoFinalParaEntregar_Daniel Vitor.ipynb",
   "provenance": []
  },
  "kernelspec": {
   "display_name": "Python 3 (ipykernel)",
   "language": "python",
   "name": "python3"
  },
  "language_info": {
   "codemirror_mode": {
    "name": "ipython",
    "version": 3
   },
   "file_extension": ".py",
   "mimetype": "text/x-python",
   "name": "python",
   "nbconvert_exporter": "python",
   "pygments_lexer": "ipython3",
   "version": "3.9.7"
  }
 },
 "nbformat": 4,
 "nbformat_minor": 4
}
